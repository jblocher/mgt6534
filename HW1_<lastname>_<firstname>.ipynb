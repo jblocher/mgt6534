{
  "nbformat": 4,
  "nbformat_minor": 0,
  "metadata": {
    "colab": {
      "provenance": [],
      "authorship_tag": "ABX9TyMReF1V2G+jGTLERNkwi/5J",
      "include_colab_link": true
    },
    "kernelspec": {
      "name": "python3",
      "display_name": "Python 3"
    },
    "language_info": {
      "name": "python"
    }
  },
  "cells": [
    {
      "cell_type": "markdown",
      "metadata": {
        "id": "view-in-github",
        "colab_type": "text"
      },
      "source": [
        "<a href=\"https://colab.research.google.com/github/jblocher/mgt6534/blob/main/HW1_%3Clastname%3E_%3Cfirstname%3E.ipynb\" target=\"_parent\"><img src=\"https://colab.research.google.com/assets/colab-badge.svg\" alt=\"Open In Colab\"/></a>"
      ]
    },
    {
      "cell_type": "markdown",
      "source": [
        "# Homework 1\n",
        "\n",
        "First, save a copy of this notebook and rename it including your first and last name, replacing the items in `<xx>` above. For example: `HW1-Blocher-Jesse.ipynb`.\n",
        "\n",
        "Functions! Let's use what we did last time to create a function we can call.\n",
        "\n",
        "INPUT: Your function should take as an input a stock ticker.\n",
        "\n",
        "OUTPUT: The output should be a dataframe, with years for each row, and each column should be a growth rate, one for Revenue, one for EBIT, and one for Net Income. It should get 3 years worth of growth rates."
      ],
      "metadata": {
        "id": "ogkUxaPIFWcD"
      }
    },
    {
      "cell_type": "code",
      "execution_count": null,
      "metadata": {
        "id": "AM-zy3sWFQMM"
      },
      "outputs": [],
      "source": [
        "# write function here, along with imports, constants."
      ]
    },
    {
      "cell_type": "code",
      "source": [
        "# execute function here, testing it to be sure it does what it is supposed to do."
      ],
      "metadata": {
        "id": "r-Q_eLsoFkRz"
      },
      "execution_count": null,
      "outputs": []
    },
    {
      "cell_type": "code",
      "source": [
        "# finally, print out the dataframe here so we can see it conforms to our design above."
      ],
      "metadata": {
        "id": "se9eJbEQFnO_"
      },
      "execution_count": null,
      "outputs": []
    },
    {
      "cell_type": "markdown",
      "source": [
        "## Use the inversion prompt to explain in your own words the code back to ChatGPT.\n",
        "  1. Paste the code you wrote above\n",
        "  2. Give ChatGPT the inversion prompt we used in class (“I want to explain the above code to you…”)\n",
        "  3. Paste your explanation as comments around the code above, so your final deliverable has code along with text explaining what it is doing.\n",
        "\n"
      ],
      "metadata": {
        "id": "PuhIdR4IF4HP"
      }
    },
    {
      "cell_type": "markdown",
      "source": [
        "## Write below a brief reflection on these two questions:\n",
        "\n",
        "A. What did GPT do that was incorrect or misleading? How did you find out?\n",
        "\n",
        "\n",
        "*enter your response here*\n",
        "\n",
        "B. How was this experience different that a week or so ago when you first started coding using AI? What are one or two things you are better at now?\n",
        "\n",
        "*enter your response here*"
      ],
      "metadata": {
        "id": "EsVv8-AIGd47"
      }
    },
    {
      "cell_type": "markdown",
      "source": [
        "## Turn in to brightspace:\n",
        "1. A PDF of this Google Colab notebook with code executed (i.e. outputs showing final answer with no errors). Use File -> Print and then save as a PDF.\n",
        "2. A “Share” link to your Google Colab notebook so I/we(TAs) can access and run it. Be sure it runs as expected from beginning to end before you turn it in."
      ],
      "metadata": {
        "id": "y9VVwJXAHKhq"
      }
    },
    {
      "cell_type": "code",
      "source": [],
      "metadata": {
        "id": "1Y3TOGw4GtTy"
      },
      "execution_count": null,
      "outputs": []
    }
  ]
}