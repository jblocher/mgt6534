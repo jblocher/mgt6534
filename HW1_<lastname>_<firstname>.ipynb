{
  "nbformat": 4,
  "nbformat_minor": 0,
  "metadata": {
    "colab": {
      "provenance": [],
      "authorship_tag": "ABX9TyMu3/uLlwQFdqrU5LI7djox",
      "include_colab_link": true
    },
    "kernelspec": {
      "name": "python3",
      "display_name": "Python 3"
    },
    "language_info": {
      "name": "python"
    }
  },
  "cells": [
    {
      "cell_type": "markdown",
      "metadata": {
        "id": "view-in-github",
        "colab_type": "text"
      },
      "source": [
        "<a href=\"https://colab.research.google.com/github/jblocher/mgt6534/blob/main/HW1_%3Clastname%3E_%3Cfirstname%3E.ipynb\" target=\"_parent\"><img src=\"https://colab.research.google.com/assets/colab-badge.svg\" alt=\"Open In Colab\"/></a>"
      ]
    },
    {
      "cell_type": "markdown",
      "source": [
        "# Homework 1\n",
        "\n",
        "First, save a copy of this notebook and rename it including your first and last name, replacing the items in `<xx>` above. For example: `HW1-Blocher-Jesse.ipynb`.\n",
        "\n",
        "Using Google Colab and GenAI, write code that accesses the `yfinance` package and retrieves and processes financial data from Yahoo! Finance.\n",
        "\n",
        "## 1. Get annual Revenue, EBIT, and Net Income for the last 5 years for Microsoft. (Note: Look closely, because it may not get 5 years of data. Find out why.)"
      ],
      "metadata": {
        "id": "ogkUxaPIFWcD"
      }
    },
    {
      "cell_type": "code",
      "execution_count": null,
      "metadata": {
        "id": "AM-zy3sWFQMM"
      },
      "outputs": [],
      "source": [
        "# write code here:"
      ]
    },
    {
      "cell_type": "markdown",
      "source": [
        "## 2. Combine them into a single pandas data frame where Revenue, EBIT, and Net Income are the column names and each row is a year."
      ],
      "metadata": {
        "id": "xKJYWnZqFfKX"
      }
    },
    {
      "cell_type": "code",
      "source": [
        "# write code here:"
      ],
      "metadata": {
        "id": "r-Q_eLsoFkRz"
      },
      "execution_count": null,
      "outputs": []
    },
    {
      "cell_type": "markdown",
      "source": [
        "## 3. Plot the three (use a line plot) with dollars on the y axis and time (years) on the x axis."
      ],
      "metadata": {
        "id": "xtnyQg2rFkqD"
      }
    },
    {
      "cell_type": "code",
      "source": [
        "# write code here:"
      ],
      "metadata": {
        "id": "se9eJbEQFnO_"
      },
      "execution_count": null,
      "outputs": []
    },
    {
      "cell_type": "markdown",
      "source": [
        "## 4. Use the inversion prompt to explain in your own words the code back to ChatGPT.\n",
        "    1. Paste the code that ChatGPT generated\n",
        "    2. Give ChatGPT the inversion prompt we used in class (“I want to explain the above code to you…”)\n",
        "    3. Paste your explanation as comments around the code above, so your final deliverable has code along with text explaining what it is doing.\n",
        "\n"
      ],
      "metadata": {
        "id": "PuhIdR4IF4HP"
      }
    },
    {
      "cell_type": "code",
      "source": [
        "# no code to write for this question. Add comments (like this one) above intermingled with your code"
      ],
      "metadata": {
        "id": "zGPWGdX0GaYO"
      },
      "execution_count": null,
      "outputs": []
    },
    {
      "cell_type": "markdown",
      "source": [
        "## 5. Write below a brief reflection on these two questions:\n",
        "\n",
        "A. What did GPT do that was incorrect or misleading? How did you find out?\n",
        "\n",
        "\n",
        "*enter your response here*\n",
        "\n",
        "B. What do you think of this, using AI to help you write code? What is it like for you?\n",
        "\n",
        "*enter your response here*"
      ],
      "metadata": {
        "id": "EsVv8-AIGd47"
      }
    },
    {
      "cell_type": "markdown",
      "source": [
        "## Turn in to brightspace:\n",
        "1. A PDF of this Google Colab notebook with code executed (i.e. outputs showing final answer with no errors). Use File -> Print and then save as a PDF.\n",
        "2. A “Share” link to your Google Colab notebook so I/we(TAs) can access and run it. Be sure it runs as expected from beginning to end before you turn it in."
      ],
      "metadata": {
        "id": "y9VVwJXAHKhq"
      }
    },
    {
      "cell_type": "code",
      "source": [],
      "metadata": {
        "id": "1Y3TOGw4GtTy"
      },
      "execution_count": null,
      "outputs": []
    }
  ]
}