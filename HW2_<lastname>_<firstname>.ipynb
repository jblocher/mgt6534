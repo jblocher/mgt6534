{
  "nbformat": 4,
  "nbformat_minor": 0,
  "metadata": {
    "colab": {
      "provenance": [],
      "authorship_tag": "ABX9TyNsdDh2BQxef9dvRiwoBaUE",
      "include_colab_link": true
    },
    "kernelspec": {
      "name": "python3",
      "display_name": "Python 3"
    },
    "language_info": {
      "name": "python"
    }
  },
  "cells": [
    {
      "cell_type": "markdown",
      "metadata": {
        "id": "view-in-github",
        "colab_type": "text"
      },
      "source": [
        "<a href=\"https://colab.research.google.com/github/jblocher/mgt6534/blob/main/HW2_%3Clastname%3E_%3Cfirstname%3E.ipynb\" target=\"_parent\"><img src=\"https://colab.research.google.com/assets/colab-badge.svg\" alt=\"Open In Colab\"/></a>"
      ]
    },
    {
      "cell_type": "markdown",
      "source": [
        "# Homework 2\n",
        "\n",
        "First, save a copy of this notebook and rename it including your first and last name, replacing the items in `<xx>` above. For example: `HW2-Blocher-Jesse.ipynb`.\n",
        "\n",
        "Conditionals, Loops, and Tests.\n",
        "\n",
        "## Part 1: Conditional\n",
        "\n",
        "Paste in your function from HW1, but now add a condition. If Net Income <= 0, then set growth = NaN. Do the same for EBIT. Remember, if these are negative or zero, growth is undefined, even though you can calculate it. Revenue will always be positive, but you can add it there also if you want to.\n",
        "\n"
      ],
      "metadata": {
        "id": "ogkUxaPIFWcD"
      }
    },
    {
      "cell_type": "code",
      "execution_count": null,
      "metadata": {
        "id": "AM-zy3sWFQMM"
      },
      "outputs": [],
      "source": [
        "# paste in your function, along with a output.\n",
        "\n",
        "# Check that it works - find a ticker that has negative EBIT sometime in the last 4 years and use it as a test case."
      ]
    },
    {
      "cell_type": "markdown",
      "source": [
        "## Part 2: News Function\n",
        "\n",
        "We are going to write a script that gathers news stories.\n",
        "\n",
        "### 1. Use `yfinance` to gather data on news stories for a firm.\n",
        "\n",
        "Use the firm's ticker. You should get some kind of object back that has news story metadata (not the content of the story itself). If GPT says that `yfinance` cannot get news stories, tell it that you know that and you just want to get headlines and urls for news stories, which `yfinance` can get."
      ],
      "metadata": {
        "id": "T2eLysQYMkh2"
      }
    },
    {
      "cell_type": "code",
      "source": [
        "# write code here and print out information about the first news story to be sure you got it."
      ],
      "metadata": {
        "id": "r-Q_eLsoFkRz"
      },
      "execution_count": null,
      "outputs": []
    },
    {
      "cell_type": "markdown",
      "source": [
        "### 2. Loop through each new story and extract the Title and URL of the story.\n",
        "\n",
        "The result should be two lists. One list that has the title of each news story, and the other list should have the URL of the news story."
      ],
      "metadata": {
        "id": "ZAiAgpkKNfi1"
      }
    },
    {
      "cell_type": "code",
      "source": [
        "# write your code here"
      ],
      "metadata": {
        "id": "se9eJbEQFnO_"
      },
      "execution_count": null,
      "outputs": []
    },
    {
      "cell_type": "markdown",
      "source": [
        "### 3. Add tests to the code.\n",
        "\n",
        "Paste below the code you wrote above, but this time add tests.\n",
        "\n",
        "A. Test that each of the title and url are not empty (length > 0 should be sufficient)\n",
        "B. Test that the URL is a properly formatted HTML link.\n",
        "C. Come up with another test to be sure we are getting what we expect to get.\n",
        "\n",
        "Want to do more? See if you can use HTTP requests to actually get the news story at the link and retrieve the text. This may be pretty challenging."
      ],
      "metadata": {
        "id": "GtDHmTXkODZG"
      }
    },
    {
      "cell_type": "code",
      "source": [
        "# paste code from above and alter it here"
      ],
      "metadata": {
        "id": "tByvacqhOhMk"
      },
      "execution_count": null,
      "outputs": []
    },
    {
      "cell_type": "markdown",
      "source": [
        "## Use the inversion prompt to explain in your own words the code back to ChatGPT.\n",
        "  1. Paste the code you wrote above\n",
        "  2. Give ChatGPT the inversion prompt we used in class (“I want to explain the above code to you…”)\n",
        "  3. Paste your explanation as comments around the code above, so your final deliverable has code along with text explaining what it is doing.\n",
        "\n"
      ],
      "metadata": {
        "id": "PuhIdR4IF4HP"
      }
    },
    {
      "cell_type": "markdown",
      "source": [
        "## Write below a brief reflection on these two questions:\n",
        "\n",
        "A. What did GPT do that was incorrect or misleading? How did you find out?\n",
        "\n",
        "\n",
        "*enter your response here*\n",
        "\n",
        "B. How is AI-assisted coding helping you (if at all)? What things do you think GPT is best at that really help?\n",
        "\n",
        "*enter your response here*"
      ],
      "metadata": {
        "id": "EsVv8-AIGd47"
      }
    },
    {
      "cell_type": "markdown",
      "source": [
        "## Turn in to brightspace:\n",
        "1. A PDF of this Google Colab notebook with code executed (i.e. outputs showing final answer with no errors). Use File -> Print and then save as a PDF.\n",
        "2. A “Share” link to your Google Colab notebook so I/we(TAs) can access and run it. Be sure it runs as expected from beginning to end before you turn it in: Use Runtime -> Restart and run all.\n",
        "\n",
        "Be sure that your \"Share\" link says \"Anyone with link can access\" and NOT \"Restricted\" otherwise we won't be able to access it."
      ],
      "metadata": {
        "id": "y9VVwJXAHKhq"
      }
    },
    {
      "cell_type": "code",
      "source": [],
      "metadata": {
        "id": "1Y3TOGw4GtTy"
      },
      "execution_count": null,
      "outputs": []
    }
  ]
}